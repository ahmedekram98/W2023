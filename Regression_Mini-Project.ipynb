{
  "cells": [
    {
      "cell_type": "markdown",
      "metadata": {
        "id": "view-in-github",
        "colab_type": "text"
      },
      "source": [
        "<a href=\"https://colab.research.google.com/github/ahmedekram98/W2023/blob/main/Regression_Mini-Project.ipynb\" target=\"_parent\"><img src=\"https://colab.research.google.com/assets/colab-badge.svg\" alt=\"Open In Colab\"/></a>"
      ]
    },
    {
      "cell_type": "markdown",
      "metadata": {
        "id": "HI8P6YqYpU6s"
      },
      "source": [
        "# Linear Regression - Mini-Project 1\n"
      ]
    },
    {
      "cell_type": "markdown",
      "metadata": {
        "id": "NPMVlHovpU6v"
      },
      "source": [
        "***Edit this cell with your name(s), tutorial number(s) and ID(s)***\n",
        "\n",
        "---\n",
        "\n",
        "Name: Ahmed Ekram\n",
        "\n",
        "ID: 40-9714\n",
        "\n",
        "Tutorial: T-08\n",
        "\n",
        "---\n",
        "\n",
        "Name:\n",
        "\n",
        "ID:\n",
        "\n",
        "Tutorial:\n",
        "\n",
        "---\n",
        "\n",
        "Name:\n",
        "\n",
        "ID:\n",
        "\n",
        "Tutorial:\n",
        "\n",
        "---\n"
      ]
    },
    {
      "cell_type": "markdown",
      "metadata": {
        "id": "5AtUwMmMpU6v"
      },
      "source": [
        "## Dataset Description\n",
        "\n",
        "The dataset contains historical car auction sales prices, scraped from the outside internet sources and collected in 2015.\n",
        "\n",
        "Each row represents a sale at a used car auction. Each column is described below.\n",
        "\n",
        "| Column       | Description                                                                                          |\n",
        "| ------------ | ---------------------------------------------------------------------------------------------------- |\n",
        "| year         | Car's year of production                                                                             |\n",
        "| make         | Car make/brand                                                                                       |\n",
        "| model        | Car model                                                                                            |\n",
        "| trim         | Car's trim or grade, which specifies a car model's level of performance, features, options or extras |\n",
        "| body         | Car body type (e.g. Sedan, SUV, Coupe, etc.)                                                         |\n",
        "| transmission | Car transmission type. The mechanism that moves the power from the engine to the wheels.             |\n",
        "| vin          | Vehicle Identification Number, a unique code to identify individual motor vehicles.                  |\n",
        "| state        | The state in which the car was auctioned.                                                            |\n",
        "| condition    | The condition of the cars being at the time of auction, 5 being the best score and 1 being the worst.|\n",
        "| odometer     | The distance traveled by a vehicle since being manufactured, in miles                                |\n",
        "| color        | Exterior color of the car                                                                            |\n",
        "| interior     | Interior color of the car                                                                            |\n",
        "| seller       | The seller of the car or car dealer                                                                  |\n",
        "| mmr          | Manheim\\* Market Report, the market estimated price of the cars. An indicator of wholesale prices.   |\n",
        "| sellingprice | The price a car was sold at in auction.                                                              |\n",
        "| saledate     | The date on which the car has been sold.                                                             |\n",
        "\n",
        "\\*Manheim is a company established in 1945 as a car auction company. It has grown to a very reputable company in the industry and its MMR estimate is a baseline tool for wholesale car price determination. They base their price calculations on over 10 million transaction over the past 13-month period.\n"
      ]
    },
    {
      "cell_type": "markdown",
      "metadata": {
        "id": "AxPjuMTJpU6w"
      },
      "source": [
        "## Importing Libraries \\& Dataset\n"
      ]
    },
    {
      "cell_type": "code",
      "execution_count": 85,
      "metadata": {
        "id": "RYsfNvYzpU6w",
        "outputId": "68f71191-b70c-434e-ad7e-af3cc7696600",
        "colab": {
          "base_uri": "https://localhost:8080/",
          "height": 435
        }
      },
      "outputs": [
        {
          "output_type": "stream",
          "name": "stderr",
          "text": [
            "<ipython-input-85-69f679858591>:7: MatplotlibDeprecationWarning: The seaborn styles shipped by Matplotlib are deprecated since 3.6, as they no longer correspond to the styles shipped by seaborn. However, they will remain available as 'seaborn-v0_8-<style>'. Alternatively, directly use the seaborn API instead.\n",
            "  plt.style.use(\"seaborn\")\n"
          ]
        },
        {
          "output_type": "execute_result",
          "data": {
            "text/plain": [
              "   year     make         model   trim          body transmission  \\\n",
              "0  2013  Hyundai        Sonata    GLS         sedan    automatic   \n",
              "1  2014   Toyota       4Runner    SR5           SUV    automatic   \n",
              "2  2012    Lexus        IS 250   Base         Sedan    automatic   \n",
              "3  2002      BMW            X5   4.4i           SUV    automatic   \n",
              "4  2014     Ford  E-Series Van  E-250  E-Series Van    automatic   \n",
              "\n",
              "                 vin state  condition    odometer   color interior  \\\n",
              "0  5npeb4acxdh702805    ma        3.9   50404.0mi   black     gray   \n",
              "1  jtezu5jr2e5064567    fl        4.9   17846.0mi    gray        —   \n",
              "2  jthbf5c24c5168599    fl        4.1   21122.0mi  silver    black   \n",
              "3  5uxfb33562lh33864    fl        1.9  145303.0mi   black    black   \n",
              "4  1ftne2ew0eda31832    wa        4.9    6714.0mi   white     gray   \n",
              "\n",
              "                             seller     mmr sellingprice  \\\n",
              "0             the hertz corporation  $11000       $10900   \n",
              "1  award auto sales and leasing inc  $28700       $29900   \n",
              "2          lexus financial services  $22200       $24200   \n",
              "3                        peddle llc   $3675        $3200   \n",
              "4                            u-haul  $22500       $22100   \n",
              "\n",
              "                                  saledate  \n",
              "0  Tue Jun 02 2015 02:30:00 GMT-0700 (PDT)  \n",
              "1  Wed Feb 18 2015 07:15:00 GMT-0800 (PST)  \n",
              "2  Tue Jan 20 2015 01:30:00 GMT-0800 (PST)  \n",
              "3  Wed Mar 04 2015 07:10:00 GMT-0800 (PST)  \n",
              "4  Wed Feb 18 2015 06:45:00 GMT-0800 (PST)  "
            ],
            "text/html": [
              "\n",
              "  <div id=\"df-0e0d1493-b590-4355-b2a7-756a2126bd44\" class=\"colab-df-container\">\n",
              "    <div>\n",
              "<style scoped>\n",
              "    .dataframe tbody tr th:only-of-type {\n",
              "        vertical-align: middle;\n",
              "    }\n",
              "\n",
              "    .dataframe tbody tr th {\n",
              "        vertical-align: top;\n",
              "    }\n",
              "\n",
              "    .dataframe thead th {\n",
              "        text-align: right;\n",
              "    }\n",
              "</style>\n",
              "<table border=\"1\" class=\"dataframe\">\n",
              "  <thead>\n",
              "    <tr style=\"text-align: right;\">\n",
              "      <th></th>\n",
              "      <th>year</th>\n",
              "      <th>make</th>\n",
              "      <th>model</th>\n",
              "      <th>trim</th>\n",
              "      <th>body</th>\n",
              "      <th>transmission</th>\n",
              "      <th>vin</th>\n",
              "      <th>state</th>\n",
              "      <th>condition</th>\n",
              "      <th>odometer</th>\n",
              "      <th>color</th>\n",
              "      <th>interior</th>\n",
              "      <th>seller</th>\n",
              "      <th>mmr</th>\n",
              "      <th>sellingprice</th>\n",
              "      <th>saledate</th>\n",
              "    </tr>\n",
              "  </thead>\n",
              "  <tbody>\n",
              "    <tr>\n",
              "      <th>0</th>\n",
              "      <td>2013</td>\n",
              "      <td>Hyundai</td>\n",
              "      <td>Sonata</td>\n",
              "      <td>GLS</td>\n",
              "      <td>sedan</td>\n",
              "      <td>automatic</td>\n",
              "      <td>5npeb4acxdh702805</td>\n",
              "      <td>ma</td>\n",
              "      <td>3.9</td>\n",
              "      <td>50404.0mi</td>\n",
              "      <td>black</td>\n",
              "      <td>gray</td>\n",
              "      <td>the hertz corporation</td>\n",
              "      <td>$11000</td>\n",
              "      <td>$10900</td>\n",
              "      <td>Tue Jun 02 2015 02:30:00 GMT-0700 (PDT)</td>\n",
              "    </tr>\n",
              "    <tr>\n",
              "      <th>1</th>\n",
              "      <td>2014</td>\n",
              "      <td>Toyota</td>\n",
              "      <td>4Runner</td>\n",
              "      <td>SR5</td>\n",
              "      <td>SUV</td>\n",
              "      <td>automatic</td>\n",
              "      <td>jtezu5jr2e5064567</td>\n",
              "      <td>fl</td>\n",
              "      <td>4.9</td>\n",
              "      <td>17846.0mi</td>\n",
              "      <td>gray</td>\n",
              "      <td>—</td>\n",
              "      <td>award auto sales and leasing inc</td>\n",
              "      <td>$28700</td>\n",
              "      <td>$29900</td>\n",
              "      <td>Wed Feb 18 2015 07:15:00 GMT-0800 (PST)</td>\n",
              "    </tr>\n",
              "    <tr>\n",
              "      <th>2</th>\n",
              "      <td>2012</td>\n",
              "      <td>Lexus</td>\n",
              "      <td>IS 250</td>\n",
              "      <td>Base</td>\n",
              "      <td>Sedan</td>\n",
              "      <td>automatic</td>\n",
              "      <td>jthbf5c24c5168599</td>\n",
              "      <td>fl</td>\n",
              "      <td>4.1</td>\n",
              "      <td>21122.0mi</td>\n",
              "      <td>silver</td>\n",
              "      <td>black</td>\n",
              "      <td>lexus financial services</td>\n",
              "      <td>$22200</td>\n",
              "      <td>$24200</td>\n",
              "      <td>Tue Jan 20 2015 01:30:00 GMT-0800 (PST)</td>\n",
              "    </tr>\n",
              "    <tr>\n",
              "      <th>3</th>\n",
              "      <td>2002</td>\n",
              "      <td>BMW</td>\n",
              "      <td>X5</td>\n",
              "      <td>4.4i</td>\n",
              "      <td>SUV</td>\n",
              "      <td>automatic</td>\n",
              "      <td>5uxfb33562lh33864</td>\n",
              "      <td>fl</td>\n",
              "      <td>1.9</td>\n",
              "      <td>145303.0mi</td>\n",
              "      <td>black</td>\n",
              "      <td>black</td>\n",
              "      <td>peddle llc</td>\n",
              "      <td>$3675</td>\n",
              "      <td>$3200</td>\n",
              "      <td>Wed Mar 04 2015 07:10:00 GMT-0800 (PST)</td>\n",
              "    </tr>\n",
              "    <tr>\n",
              "      <th>4</th>\n",
              "      <td>2014</td>\n",
              "      <td>Ford</td>\n",
              "      <td>E-Series Van</td>\n",
              "      <td>E-250</td>\n",
              "      <td>E-Series Van</td>\n",
              "      <td>automatic</td>\n",
              "      <td>1ftne2ew0eda31832</td>\n",
              "      <td>wa</td>\n",
              "      <td>4.9</td>\n",
              "      <td>6714.0mi</td>\n",
              "      <td>white</td>\n",
              "      <td>gray</td>\n",
              "      <td>u-haul</td>\n",
              "      <td>$22500</td>\n",
              "      <td>$22100</td>\n",
              "      <td>Wed Feb 18 2015 06:45:00 GMT-0800 (PST)</td>\n",
              "    </tr>\n",
              "  </tbody>\n",
              "</table>\n",
              "</div>\n",
              "    <div class=\"colab-df-buttons\">\n",
              "\n",
              "  <div class=\"colab-df-container\">\n",
              "    <button class=\"colab-df-convert\" onclick=\"convertToInteractive('df-0e0d1493-b590-4355-b2a7-756a2126bd44')\"\n",
              "            title=\"Convert this dataframe to an interactive table.\"\n",
              "            style=\"display:none;\">\n",
              "\n",
              "  <svg xmlns=\"http://www.w3.org/2000/svg\" height=\"24px\" viewBox=\"0 -960 960 960\">\n",
              "    <path d=\"M120-120v-720h720v720H120Zm60-500h600v-160H180v160Zm220 220h160v-160H400v160Zm0 220h160v-160H400v160ZM180-400h160v-160H180v160Zm440 0h160v-160H620v160ZM180-180h160v-160H180v160Zm440 0h160v-160H620v160Z\"/>\n",
              "  </svg>\n",
              "    </button>\n",
              "\n",
              "  <style>\n",
              "    .colab-df-container {\n",
              "      display:flex;\n",
              "      gap: 12px;\n",
              "    }\n",
              "\n",
              "    .colab-df-convert {\n",
              "      background-color: #E8F0FE;\n",
              "      border: none;\n",
              "      border-radius: 50%;\n",
              "      cursor: pointer;\n",
              "      display: none;\n",
              "      fill: #1967D2;\n",
              "      height: 32px;\n",
              "      padding: 0 0 0 0;\n",
              "      width: 32px;\n",
              "    }\n",
              "\n",
              "    .colab-df-convert:hover {\n",
              "      background-color: #E2EBFA;\n",
              "      box-shadow: 0px 1px 2px rgba(60, 64, 67, 0.3), 0px 1px 3px 1px rgba(60, 64, 67, 0.15);\n",
              "      fill: #174EA6;\n",
              "    }\n",
              "\n",
              "    .colab-df-buttons div {\n",
              "      margin-bottom: 4px;\n",
              "    }\n",
              "\n",
              "    [theme=dark] .colab-df-convert {\n",
              "      background-color: #3B4455;\n",
              "      fill: #D2E3FC;\n",
              "    }\n",
              "\n",
              "    [theme=dark] .colab-df-convert:hover {\n",
              "      background-color: #434B5C;\n",
              "      box-shadow: 0px 1px 3px 1px rgba(0, 0, 0, 0.15);\n",
              "      filter: drop-shadow(0px 1px 2px rgba(0, 0, 0, 0.3));\n",
              "      fill: #FFFFFF;\n",
              "    }\n",
              "  </style>\n",
              "\n",
              "    <script>\n",
              "      const buttonEl =\n",
              "        document.querySelector('#df-0e0d1493-b590-4355-b2a7-756a2126bd44 button.colab-df-convert');\n",
              "      buttonEl.style.display =\n",
              "        google.colab.kernel.accessAllowed ? 'block' : 'none';\n",
              "\n",
              "      async function convertToInteractive(key) {\n",
              "        const element = document.querySelector('#df-0e0d1493-b590-4355-b2a7-756a2126bd44');\n",
              "        const dataTable =\n",
              "          await google.colab.kernel.invokeFunction('convertToInteractive',\n",
              "                                                    [key], {});\n",
              "        if (!dataTable) return;\n",
              "\n",
              "        const docLinkHtml = 'Like what you see? Visit the ' +\n",
              "          '<a target=\"_blank\" href=https://colab.research.google.com/notebooks/data_table.ipynb>data table notebook</a>'\n",
              "          + ' to learn more about interactive tables.';\n",
              "        element.innerHTML = '';\n",
              "        dataTable['output_type'] = 'display_data';\n",
              "        await google.colab.output.renderOutput(dataTable, element);\n",
              "        const docLink = document.createElement('div');\n",
              "        docLink.innerHTML = docLinkHtml;\n",
              "        element.appendChild(docLink);\n",
              "      }\n",
              "    </script>\n",
              "  </div>\n",
              "\n",
              "\n",
              "<div id=\"df-55e699e7-72a1-46df-a85a-1a443e1b794e\">\n",
              "  <button class=\"colab-df-quickchart\" onclick=\"quickchart('df-55e699e7-72a1-46df-a85a-1a443e1b794e')\"\n",
              "            title=\"Suggest charts.\"\n",
              "            style=\"display:none;\">\n",
              "\n",
              "<svg xmlns=\"http://www.w3.org/2000/svg\" height=\"24px\"viewBox=\"0 0 24 24\"\n",
              "     width=\"24px\">\n",
              "    <g>\n",
              "        <path d=\"M19 3H5c-1.1 0-2 .9-2 2v14c0 1.1.9 2 2 2h14c1.1 0 2-.9 2-2V5c0-1.1-.9-2-2-2zM9 17H7v-7h2v7zm4 0h-2V7h2v10zm4 0h-2v-4h2v4z\"/>\n",
              "    </g>\n",
              "</svg>\n",
              "  </button>\n",
              "\n",
              "<style>\n",
              "  .colab-df-quickchart {\n",
              "      --bg-color: #E8F0FE;\n",
              "      --fill-color: #1967D2;\n",
              "      --hover-bg-color: #E2EBFA;\n",
              "      --hover-fill-color: #174EA6;\n",
              "      --disabled-fill-color: #AAA;\n",
              "      --disabled-bg-color: #DDD;\n",
              "  }\n",
              "\n",
              "  [theme=dark] .colab-df-quickchart {\n",
              "      --bg-color: #3B4455;\n",
              "      --fill-color: #D2E3FC;\n",
              "      --hover-bg-color: #434B5C;\n",
              "      --hover-fill-color: #FFFFFF;\n",
              "      --disabled-bg-color: #3B4455;\n",
              "      --disabled-fill-color: #666;\n",
              "  }\n",
              "\n",
              "  .colab-df-quickchart {\n",
              "    background-color: var(--bg-color);\n",
              "    border: none;\n",
              "    border-radius: 50%;\n",
              "    cursor: pointer;\n",
              "    display: none;\n",
              "    fill: var(--fill-color);\n",
              "    height: 32px;\n",
              "    padding: 0;\n",
              "    width: 32px;\n",
              "  }\n",
              "\n",
              "  .colab-df-quickchart:hover {\n",
              "    background-color: var(--hover-bg-color);\n",
              "    box-shadow: 0 1px 2px rgba(60, 64, 67, 0.3), 0 1px 3px 1px rgba(60, 64, 67, 0.15);\n",
              "    fill: var(--button-hover-fill-color);\n",
              "  }\n",
              "\n",
              "  .colab-df-quickchart-complete:disabled,\n",
              "  .colab-df-quickchart-complete:disabled:hover {\n",
              "    background-color: var(--disabled-bg-color);\n",
              "    fill: var(--disabled-fill-color);\n",
              "    box-shadow: none;\n",
              "  }\n",
              "\n",
              "  .colab-df-spinner {\n",
              "    border: 2px solid var(--fill-color);\n",
              "    border-color: transparent;\n",
              "    border-bottom-color: var(--fill-color);\n",
              "    animation:\n",
              "      spin 1s steps(1) infinite;\n",
              "  }\n",
              "\n",
              "  @keyframes spin {\n",
              "    0% {\n",
              "      border-color: transparent;\n",
              "      border-bottom-color: var(--fill-color);\n",
              "      border-left-color: var(--fill-color);\n",
              "    }\n",
              "    20% {\n",
              "      border-color: transparent;\n",
              "      border-left-color: var(--fill-color);\n",
              "      border-top-color: var(--fill-color);\n",
              "    }\n",
              "    30% {\n",
              "      border-color: transparent;\n",
              "      border-left-color: var(--fill-color);\n",
              "      border-top-color: var(--fill-color);\n",
              "      border-right-color: var(--fill-color);\n",
              "    }\n",
              "    40% {\n",
              "      border-color: transparent;\n",
              "      border-right-color: var(--fill-color);\n",
              "      border-top-color: var(--fill-color);\n",
              "    }\n",
              "    60% {\n",
              "      border-color: transparent;\n",
              "      border-right-color: var(--fill-color);\n",
              "    }\n",
              "    80% {\n",
              "      border-color: transparent;\n",
              "      border-right-color: var(--fill-color);\n",
              "      border-bottom-color: var(--fill-color);\n",
              "    }\n",
              "    90% {\n",
              "      border-color: transparent;\n",
              "      border-bottom-color: var(--fill-color);\n",
              "    }\n",
              "  }\n",
              "</style>\n",
              "\n",
              "  <script>\n",
              "    async function quickchart(key) {\n",
              "      const quickchartButtonEl =\n",
              "        document.querySelector('#' + key + ' button');\n",
              "      quickchartButtonEl.disabled = true;  // To prevent multiple clicks.\n",
              "      quickchartButtonEl.classList.add('colab-df-spinner');\n",
              "      try {\n",
              "        const charts = await google.colab.kernel.invokeFunction(\n",
              "            'suggestCharts', [key], {});\n",
              "      } catch (error) {\n",
              "        console.error('Error during call to suggestCharts:', error);\n",
              "      }\n",
              "      quickchartButtonEl.classList.remove('colab-df-spinner');\n",
              "      quickchartButtonEl.classList.add('colab-df-quickchart-complete');\n",
              "    }\n",
              "    (() => {\n",
              "      let quickchartButtonEl =\n",
              "        document.querySelector('#df-55e699e7-72a1-46df-a85a-1a443e1b794e button');\n",
              "      quickchartButtonEl.style.display =\n",
              "        google.colab.kernel.accessAllowed ? 'block' : 'none';\n",
              "    })();\n",
              "  </script>\n",
              "</div>\n",
              "    </div>\n",
              "  </div>\n"
            ]
          },
          "metadata": {},
          "execution_count": 85
        }
      ],
      "source": [
        "import pandas as pd\n",
        "import numpy as np\n",
        "import matplotlib.pyplot as plt\n",
        "import seaborn as sns\n",
        "\n",
        "%matplotlib inline\n",
        "plt.style.use(\"seaborn\")\n",
        "\n",
        "try:\n",
        "    df = pd.read_csv('car_prices.csv')\n",
        "except:\n",
        "    df = pd.read_csv('https://raw.githubusercontent.com/GUC-DM/W2023/main/data/car_prices.csv')\n",
        "\n",
        "df.head()"
      ]
    },
    {
      "cell_type": "markdown",
      "metadata": {
        "id": "Jzoz0cJipU6y"
      },
      "source": [
        "## Data Inspection\n",
        "\n",
        "Perform data inspection tasks here (recommended for data understanding)."
      ]
    },
    {
      "cell_type": "code",
      "execution_count": 90,
      "metadata": {
        "id": "16pdjUpBpU6y",
        "outputId": "4285b62a-0e44-47f4-efc0-414b6efa9255",
        "colab": {
          "base_uri": "https://localhost:8080/"
        }
      },
      "outputs": [
        {
          "output_type": "execute_result",
          "data": {
            "text/plain": [
              "year              int64\n",
              "make             object\n",
              "model            object\n",
              "trim             object\n",
              "body             object\n",
              "transmission     object\n",
              "vin              object\n",
              "state            object\n",
              "condition       float64\n",
              "odometer         object\n",
              "color            object\n",
              "interior         object\n",
              "seller           object\n",
              "mmr               int64\n",
              "sellingprice      int64\n",
              "saledate         object\n",
              "dtype: object"
            ]
          },
          "metadata": {},
          "execution_count": 90
        }
      ],
      "source": [
        "df.dtypes"
      ]
    },
    {
      "cell_type": "markdown",
      "metadata": {
        "id": "Rkg_JYQupU6y"
      },
      "source": [
        "## Data Pre-Processing & Cleaning\n",
        "\n",
        "_Apply any data preprocessing and/or feature engineering below. Show/output the changes to the dataset._"
      ]
    },
    {
      "cell_type": "code",
      "execution_count": 87,
      "metadata": {
        "colab": {
          "base_uri": "https://localhost:8080/"
        },
        "id": "g0IKcHzWpU6y",
        "outputId": "3b803be2-c216-44dc-e0f7-acdbf4f885f4"
      },
      "outputs": [
        {
          "output_type": "execute_result",
          "data": {
            "text/plain": [
              "year            0\n",
              "make            0\n",
              "model           0\n",
              "trim            0\n",
              "body            0\n",
              "transmission    0\n",
              "vin             0\n",
              "state           0\n",
              "condition       0\n",
              "odometer        0\n",
              "color           0\n",
              "interior        0\n",
              "seller          0\n",
              "mmr             0\n",
              "sellingprice    0\n",
              "saledate        0\n",
              "dtype: int64"
            ]
          },
          "metadata": {},
          "execution_count": 87
        }
      ],
      "source": [
        "df['sellingprice'] = df['sellingprice'].replace({'\\$':''}, regex = True)\n",
        "df['mmr'] = df['mmr'].replace({'\\$':''}, regex = True)\n",
        "df['sellingprice']=pd.to_numeric(df['sellingprice'], errors='coerce')\n",
        "df['mmr']=pd.to_numeric(df['mmr'], errors='coerce')\n",
        "df.dtypes\n",
        "for col in df.select_dtypes(include='object').columns:\n",
        "    df[col] = df[col].str.lower()\n",
        "body_mapping = {\n",
        "    'sedan': 'sedan',\n",
        "    'g sedan' : 'sedan',\n",
        "    'coupe': 'coupe',\n",
        "    'g coupe': 'coupe',\n",
        "    'koup': 'coupe',\n",
        "    'cts coupe': 'coupe',\n",
        "    'elantra coupe': 'coupe',\n",
        "    'q60 coupe': 'coupe',\n",
        "    'cts-v coupe': 'coupe',\n",
        "    'genesis coupe': 'coupe',\n",
        "    'convertible': 'convertible',\n",
        "    'granturismo convertible': 'convertible',\n",
        "    'g convertible': 'convertible',\n",
        "    'g37 convertible': 'convertible',\n",
        "    'q60 convertible': 'convertible',\n",
        "    'beetle convertible': 'convertible',\n",
        "    'hatchback': 'hatchback',\n",
        "    'suv': 'suv',\n",
        "    'minivan': 'minivan',\n",
        "    'transit van': 'minivan',\n",
        "    'promaster cargo van': 'minivan',\n",
        "    'e-series van' : 'minivan',\n",
        "    'van': 'minivan',\n",
        "    'wagon': 'wagon',\n",
        "    'cts wagon': 'wagon',\n",
        "    'tsx sport wagon': 'wagon',\n",
        "    'crew cab':'Pickup Truck',\n",
        "    'supercrew':'Pickup Truck',\n",
        "    'supercab':'Pickup Truck',\n",
        "    'regular cab':'Pickup Truck',\n",
        "    'extended cab':'Pickup Truck',\n",
        "    'quad cab':'Pickup Truck',\n",
        "    'double cab':'Pickup Truck',\n",
        "    'crewmax cab':'Pickup Truck',\n",
        "    'king cab':'Pickup Truck',\n",
        "    'access cab':'Pickup Truck',\n",
        "    'club cab':'Pickup Truck',\n",
        "    'regular-cab':'Pickup Truck',\n",
        "    'xtracab':'Pickup Truck',\n",
        "    'cab plus 4':'Pickup Truck',\n",
        "    'mega cab':'Pickup Truck',\n",
        "\n",
        "}\n",
        "\n",
        "# Apply the mapping to the 'body' column\n",
        "df['body'] = df['body'].map(body_mapping)\n",
        "df.isna().sum()\n"
      ]
    },
    {
      "cell_type": "markdown",
      "metadata": {
        "id": "SEPBc17jpU6z"
      },
      "source": [
        "## Exploratory Data Analysis\n"
      ]
    },
    {
      "cell_type": "markdown",
      "metadata": {
        "id": "utPn4dPVpU6z"
      },
      "source": [
        "**Q0 (example): What is the most popular car exterior color?**\n"
      ]
    },
    {
      "cell_type": "markdown",
      "metadata": {
        "id": "bYD4XB4BpU6z"
      },
      "source": [
        "**Visualization**"
      ]
    },
    {
      "cell_type": "code",
      "execution_count": null,
      "metadata": {
        "id": "mMA3Jj0dpU6z",
        "outputId": "d9035ecf-06a2-40ff-a804-343466a45644"
      },
      "outputs": [
        {
          "data": {
            "text/plain": [
              "<AxesSubplot: xlabel='color', ylabel='count'>"
            ]
          },
          "execution_count": 2,
          "metadata": {},
          "output_type": "execute_result"
        },
        {
          "data": {
            "image/png": "[encoded data removed]",
            "text/plain": [
              "<Figure size 576x396 with 1 Axes>"
            ]
          },
          "metadata": {},
          "output_type": "display_data"
        }
      ],
      "source": [
        "# Basic, minimal plot example\n",
        "sns.countplot(x='color', data=df)"
      ]
    },
    {
      "cell_type": "code",
      "execution_count": null,
      "metadata": {
        "id": "zzmWi5NypU6z",
        "outputId": "b38b6c10-c840-4c02-9fcd-071a279e9d32"
      },
      "outputs": [
        {
          "data": {
            "image/png": "[encoded data removed]",
            "text/plain": [
              "<Figure size 576x396 with 1 Axes>"
            ]
          },
          "metadata": {},
          "output_type": "display_data"
        }
      ],
      "source": [
        "# Much better plot, with sorting in descending order, rotated x-axis labels for clarity, and a plot title\n",
        "# Your visualizations should be neatly presented like the example below.\n",
        "large_to_small = df.groupby('color').size().sort_values(ascending=False)\n",
        "sns.countplot(x='color', data=df, order=large_to_small.index).set(title='Most popular colors sold on the used car auction market')\n",
        "plt.xticks(rotation=90)\n",
        "plt.tight_layout()"
      ]
    },
    {
      "cell_type": "markdown",
      "metadata": {
        "id": "xPDxj3s-pU60"
      },
      "source": [
        "**Example note:** _you need to answer using a visualization (above) and a written/text answer (below)._\n",
        "\n",
        "**Answer for Q0**: Black is the most popular exterior color of used cars sold in auctions, followed very closely by white."
      ]
    },
    {
      "cell_type": "markdown",
      "metadata": {
        "id": "3qEuY9hkpU60"
      },
      "source": [
        "**Q1: What are the most popular car brands? (mention at least 3)**\n",
        ""
      ]
    },
    {
      "cell_type": "markdown",
      "metadata": {
        "id": "zVs3xFR6pU60"
      },
      "source": [
        "**Visualization**"
      ]
    },
    {
      "cell_type": "code",
      "execution_count": 6,
      "metadata": {
        "id": "h4D5zcotpU60",
        "outputId": "7d01c7b6-8169-49ad-fa7d-c501c024f3ee",
        "colab": {
          "base_uri": "https://localhost:8080/",
          "height": 557
        }
      },
      "outputs": [
        {
          "output_type": "display_data",
          "data": {
            "text/plain": [
              "<Figure size 800x550 with 1 Axes>"
            ],
            "image/png": "[encoded data removed]"
          },
          "metadata": {}
        }
      ],
      "source": [
        "large_to_small = df.groupby('make').size().sort_values(ascending=False)\n",
        "sns.countplot(x='make', data=df, order=large_to_small.index).set(title='Most popular car brands')\n",
        "plt.xticks(rotation=90)\n",
        "plt.tight_layout()"
      ]
    },
    {
      "cell_type": "markdown",
      "metadata": {
        "id": "4OGl6kJspU60"
      },
      "source": [
        "**Answer for Q1**: Ford,Chevrolet,Nissan"
      ]
    },
    {
      "cell_type": "markdown",
      "metadata": {
        "id": "tnsDq22hpU60"
      },
      "source": [
        "**Q2: Draw a bar plot showing the selling price of each of the transmission categories. Do automatic cars, on\n",
        "average (mean), sell for a higher price than manual cars?**\n",
        "\n",
        "(Use the following link for reference:\n",
        "https://seaborn.pydata.org/generated/seaborn.barplot.html)\n"
      ]
    },
    {
      "cell_type": "markdown",
      "metadata": {
        "id": "dvbgJQQhpU61"
      },
      "source": [
        "**Visualization**"
      ]
    },
    {
      "cell_type": "code",
      "execution_count": 95,
      "metadata": {
        "id": "s6ta7tKmpU61",
        "outputId": "2fce816c-b23f-473c-b8de-b2cd46b9554c",
        "colab": {
          "base_uri": "https://localhost:8080/",
          "height": 562
        }
      },
      "outputs": [
        {
          "output_type": "display_data",
          "data": {
            "text/plain": [
              "<Figure size 800x600 with 1 Axes>"
            ],
            "image/png": "[encoded data removed]"
          },
          "metadata": {}
        }
      ],
      "source": [
        "# Group the data by 'Transmission' and calculate the mean of 'Selling_Price'\n",
        "transmission_prices = df.groupby('transmission')['sellingprice'].mean()\n",
        "\n",
        "# Create a bar plot\n",
        "plt.figure(figsize=(8, 6))\n",
        "sns.barplot(x=transmission_prices.index, y=transmission_prices.values)\n",
        "plt.title('Average Selling Price for Each Transmission Category')\n",
        "plt.xlabel('Transmission')\n",
        "plt.ylabel('Average Selling Price')\n",
        "plt.show()"
      ]
    },
    {
      "cell_type": "markdown",
      "metadata": {
        "id": "l5OSWPp2pU61"
      },
      "source": [
        "**Answer for Q2**: From the plot, we can see that automatic cars have a higher mean selling price than manual cars."
      ]
    },
    {
      "cell_type": "markdown",
      "metadata": {
        "id": "1IwmcQidpU61"
      },
      "source": [
        "**Q3: Draw a box plot showing the distribution of the selling prices of each car make. Which car makes have the widest distribution of selling price (name two)? Which are the most expensive (name two)?**\n"
      ]
    },
    {
      "cell_type": "markdown",
      "metadata": {
        "id": "B2cx60SLpU61"
      },
      "source": [
        "**Visualization**"
      ]
    },
    {
      "cell_type": "code",
      "execution_count": null,
      "metadata": {
        "id": "dc7pndbdpU61"
      },
      "outputs": [],
      "source": []
    },
    {
      "cell_type": "markdown",
      "metadata": {
        "id": "zodNIfeypU61"
      },
      "source": [
        "**Answer for Q3**: Your answer here"
      ]
    },
    {
      "cell_type": "markdown",
      "metadata": {
        "id": "g5XXwVf0pU61"
      },
      "source": [
        "**Q4: How correlated is the odometer reading or mileage with the car's sale price? (Hint: plot a line of best fit.)**"
      ]
    },
    {
      "cell_type": "markdown",
      "metadata": {
        "id": "0MJ3tVzPpU61"
      },
      "source": [
        "**Visualization**"
      ]
    },
    {
      "cell_type": "code",
      "execution_count": null,
      "metadata": {
        "id": "mAP-9-ddpU61"
      },
      "outputs": [],
      "source": []
    },
    {
      "cell_type": "markdown",
      "metadata": {
        "id": "K7zrHg1EpU61"
      },
      "source": [
        "**Answer for Q4**: Your answer here"
      ]
    },
    {
      "cell_type": "markdown",
      "metadata": {
        "id": "bxKiLlRdpU62"
      },
      "source": [
        "**Q5: Likewise, how correlated is the car's condition with its sale price? (Hint: plot a line of best fit.)**"
      ]
    },
    {
      "cell_type": "markdown",
      "metadata": {
        "id": "lS4oNunzpU62"
      },
      "source": [
        "**Visualization**"
      ]
    },
    {
      "cell_type": "code",
      "execution_count": null,
      "metadata": {
        "id": "H9b9uSeapU62"
      },
      "outputs": [],
      "source": []
    },
    {
      "cell_type": "markdown",
      "metadata": {
        "id": "AgnZtYE1pU62"
      },
      "source": [
        "**Answer for Q5**: Your answer here"
      ]
    },
    {
      "cell_type": "markdown",
      "metadata": {
        "id": "Qaerllb0pU62"
      },
      "source": [
        "**Q6: Draw a bar plot showing the selling price of each of the body categories. Are there differences in the average\n",
        "(mean of) car price due to the car’s body type? If so, rank their order and state the most expensive and least\n",
        "expensive car body type.**"
      ]
    },
    {
      "cell_type": "markdown",
      "metadata": {
        "id": "IS3SoOhSpU62"
      },
      "source": [
        "**Visualization**"
      ]
    },
    {
      "cell_type": "code",
      "execution_count": null,
      "metadata": {
        "id": "RVJGcW5ZpU62"
      },
      "outputs": [],
      "source": []
    },
    {
      "cell_type": "markdown",
      "metadata": {
        "id": "tFi5jkHPpU63"
      },
      "source": [
        "**Answer for Q6**: Your answer here"
      ]
    },
    {
      "cell_type": "markdown",
      "metadata": {
        "id": "PI1XWu17pU63"
      },
      "source": [
        "## Data Preparation for Modelling\n",
        "\n",
        "_Apply any additional data preparation steps needed before modelling below. Show/output the changes to the dataset._"
      ]
    },
    {
      "cell_type": "code",
      "execution_count": null,
      "metadata": {
        "id": "KkJQZkAnpU63"
      },
      "outputs": [],
      "source": []
    },
    {
      "cell_type": "markdown",
      "metadata": {
        "id": "qXb-7_0bpU63"
      },
      "source": [
        "## Modelling\n",
        "\n",
        "_Apply the linear regression model below._"
      ]
    },
    {
      "cell_type": "code",
      "execution_count": null,
      "metadata": {
        "id": "SvhMnCFYpU63"
      },
      "outputs": [],
      "source": []
    },
    {
      "cell_type": "markdown",
      "metadata": {
        "id": "0h-uRRwQpU63"
      },
      "source": [
        "## Model Evaluation\n",
        "\n",
        "_Evaluate the model you applied._"
      ]
    },
    {
      "cell_type": "code",
      "execution_count": null,
      "metadata": {
        "id": "PpTbOvGDpU64"
      },
      "outputs": [],
      "source": []
    },
    {
      "cell_type": "markdown",
      "metadata": {
        "id": "rimbThxKpU64"
      },
      "source": [
        "## Conclusion and Recommendations\n",
        "\n",
        "Comment on the model accuracy, and thoroughly explain its value, as well as your findings from the model evaluation. State the problems (if any) and suggest possible solutions. Would you recommend this model for a used cars dealership that wants to get reliable estimates for used car prices?\n",
        "\n",
        "**Answer**: your answer here."
      ]
    },
    {
      "cell_type": "markdown",
      "metadata": {
        "id": "LR2gVj6VpU64"
      },
      "source": []
    }
  ],
  "metadata": {
    "kernelspec": {
      "display_name": "Python 3.9.13 ('base')",
      "language": "python",
      "name": "python3"
    },
    "language_info": {
      "codemirror_mode": {
        "name": "ipython",
        "version": 3
      },
      "file_extension": ".py",
      "mimetype": "text/x-python",
      "name": "python",
      "nbconvert_exporter": "python",
      "pygments_lexer": "ipython3",
      "version": "3.9.13"
    },
    "vscode": {
      "interpreter": {
        "hash": "806d670c7bb2cbe074590fc196bfaf591c17bcc1c3e5afa2a6f71dcbde559284"
      }
    },
    "colab": {
      "provenance": [],
      "include_colab_link": true
    }
  },
  "nbformat": 4,
  "nbformat_minor": 0
}